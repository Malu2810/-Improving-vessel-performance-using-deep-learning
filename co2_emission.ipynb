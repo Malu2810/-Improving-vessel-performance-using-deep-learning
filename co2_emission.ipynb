{
  "nbformat": 4,
  "nbformat_minor": 0,
  "metadata": {
    "colab": {
      "provenance": [],
      "include_colab_link": true
    },
    "kernelspec": {
      "name": "python3",
      "display_name": "Python 3"
    },
    "language_info": {
      "name": "python"
    }
  },
  "cells": [
    {
      "cell_type": "markdown",
      "metadata": {
        "id": "view-in-github",
        "colab_type": "text"
      },
      "source": [
        "<a href=\"https://colab.research.google.com/github/Malu2810/-Improving-vessel-performance-using-deep-learning/blob/main/co2_emission.ipynb\" target=\"_parent\"><img src=\"https://colab.research.google.com/assets/colab-badge.svg\" alt=\"Open In Colab\"/></a>"
      ]
    },
    {
      "cell_type": "code",
      "execution_count": null,
      "metadata": {
        "id": "pIkdFrU7xclM"
      },
      "outputs": [],
      "source": [
        "import pandas as pd\n",
        "import numpy as np\n",
        "import matplotlib.pyplot as plt\n",
        "import seaborn as sns"
      ]
    },
    {
      "cell_type": "code",
      "source": [
        "co2=pd.read_excel(\"/content/2022-v109-17112023-EU MRV Publication of information (1).xlsx\")"
      ],
      "metadata": {
        "id": "rE6vqWc_xo5h"
      },
      "execution_count": null,
      "outputs": []
    },
    {
      "cell_type": "code",
      "source": [
        "co2.columns"
      ],
      "metadata": {
        "colab": {
          "base_uri": "https://localhost:8080/"
        },
        "id": "zDwjlS_MyizS",
        "outputId": "d7898866-8e8b-4109-820a-957433e66222"
      },
      "execution_count": null,
      "outputs": [
        {
          "output_type": "execute_result",
          "data": {
            "text/plain": [
              "Index(['IMO Number', 'Name', 'Ship type', 'Reporting Period',\n",
              "       'technical efficiency(gco2/t-nm', 'Unnamed: 5', 'DoC issue date',\n",
              "       'DoC expiry date', 'Verifier Number', 'Verifier Name', 'Verifier NAB',\n",
              "       'Verifier Address', 'Verifier City', 'Verifier Accreditation number',\n",
              "       'Verifier Country', 'A', 'B', 'C', 'D',\n",
              "       'Total fuel consumption [m tonnes]',\n",
              "       'Fuel consumptions assigned to On laden [m tonnes]',\n",
              "       'Total CO₂ emissions [m tonnes]',\n",
              "       'CO₂ emissions from all voyages between ports under a MS jurisdiction [m tonnes]',\n",
              "       'CO₂ emissions from all voyages which departed from ports under a MS jurisdiction [m tonnes]',\n",
              "       'CO₂ emissions from all voyages to ports under a MS jurisdiction [m tonnes]',\n",
              "       'CO₂ emissions which occurred within ports under a MS jurisdiction at berth [m tonnes]',\n",
              "       'CO₂ emissions assigned to Passenger transport [m tonnes]',\n",
              "       'CO₂ emissions assigned to Freight transport [m tonnes]',\n",
              "       'CO₂ emissions assigned to On laden [m tonnes]',\n",
              "       'Annual Time spent at sea [hours]',\n",
              "       'Annual average Fuel consumption per distance [kg / n mile]',\n",
              "       'Annual average Fuel consumption per transport work (mass) [g / m tonnes · n miles]',\n",
              "       'Annual average Fuel consumption per transport work (volume) [g / m³ · n miles]',\n",
              "       'Annual average Fuel consumption per transport work (dwt) [g / dwt carried · n miles]',\n",
              "       'Annual average Fuel consumption per transport work (pax) [g / pax · n miles]',\n",
              "       'Annual average Fuel consumption per transport work (freight) [g / m tonnes · n miles]',\n",
              "       'Annual average CO₂ emissions per distance [kg CO₂ / n mile]',\n",
              "       'Annual average CO₂ emissions per transport work (mass) [g CO₂ / m tonnes · n miles]',\n",
              "       'Annual average CO₂ emissions per transport work (volume) [g CO₂ / m³ · n miles]',\n",
              "       'Annual average CO₂ emissions per transport work (dwt) [g CO₂ / dwt carried · n miles]',\n",
              "       'Annual average CO₂ emissions per transport work (pax) [g CO₂ / pax · n miles]',\n",
              "       'Annual average CO₂ emissions per transport work (freight) [g CO₂ / m tonnes · n miles]',\n",
              "       'Through ice [n miles]', 'Time spent at sea [hours]',\n",
              "       'Total time spent at sea through ice [hours]',\n",
              "       'Fuel consumption per distance on laden voyages [kg / n mile]',\n",
              "       'Fuel consumption per transport work (mass) on laden voyages [g / m tonnes · n miles]',\n",
              "       'Fuel consumption per transport work (volume) on laden voyages [g / m³ · n miles]',\n",
              "       'Fuel consumption per transport work (dwt) on laden voyages [g / dwt carried · n miles]',\n",
              "       'Fuel consumption per transport work (pax) on laden voyages [g / pax · n miles]',\n",
              "       'Fuel consumption per transport work (freight) on laden voyages [g / m tonnes · n miles]',\n",
              "       'CO₂ emissions per distance on laden voyages [kg CO₂ / n mile]',\n",
              "       'CO₂ emissions per transport work (mass) on laden voyages [g CO₂ / m tonnes · n miles]',\n",
              "       'CO₂ emissions per transport work (volume) on laden voyages [g CO₂ / m³ · n miles]',\n",
              "       'CO₂ emissions per transport work (dwt) on laden voyages [g CO₂ / dwt carried · n miles]',\n",
              "       'CO₂ emissions per transport work (pax) on laden voyages [g CO₂ / pax · n miles]',\n",
              "       'CO₂ emissions per transport work (freight) on laden voyages [g CO₂ / m tonnes · n miles]',\n",
              "       'Unnamed: 57', 'Unnamed: 58',\n",
              "       'Additional information to facilitate the understanding of the reported average operational energy efficiency indicators',\n",
              "       'Average density of the cargo transported [m tonnes / m³]'],\n",
              "      dtype='object')"
            ]
          },
          "metadata": {},
          "execution_count": 5
        }
      ]
    },
    {
      "cell_type": "code",
      "source": [
        "co2.isnull().sum()"
      ],
      "metadata": {
        "colab": {
          "base_uri": "https://localhost:8080/"
        },
        "id": "lPdXqC3yy1iP",
        "outputId": "111f1769-5da5-46a2-bea5-958c7f97fe94"
      },
      "execution_count": null,
      "outputs": [
        {
          "output_type": "execute_result",
          "data": {
            "text/plain": [
              "IMO Number                                                                                                                     0\n",
              "Name                                                                                                                           0\n",
              "Ship type                                                                                                                      0\n",
              "Reporting Period                                                                                                               0\n",
              "technical efficiency(gco2/t-nm                                                                                               232\n",
              "                                                                                                                           ...  \n",
              "CO₂ emissions per transport work (freight) on laden voyages [g CO₂ / m tonnes · n miles]                                   13089\n",
              "Unnamed: 57                                                                                                                13089\n",
              "Unnamed: 58                                                                                                                13089\n",
              "Additional information to facilitate the understanding of the reported average operational energy efficiency indicators    13086\n",
              "Average density of the cargo transported [m tonnes / m³]                                                                   13089\n",
              "Length: 61, dtype: int64"
            ]
          },
          "metadata": {},
          "execution_count": 6
        }
      ]
    },
    {
      "cell_type": "code",
      "source": [
        "co2 = co2.dropna(axis=1)"
      ],
      "metadata": {
        "id": "2rRWm1PL75SH"
      },
      "execution_count": null,
      "outputs": []
    },
    {
      "cell_type": "code",
      "source": [
        "co2.isnull().sum()"
      ],
      "metadata": {
        "colab": {
          "base_uri": "https://localhost:8080/"
        },
        "id": "1xlC9ED69f4t",
        "outputId": "f214269e-9eef-4d46-9d2c-1a401f57473b"
      },
      "execution_count": null,
      "outputs": [
        {
          "output_type": "execute_result",
          "data": {
            "text/plain": [
              "IMO Number                                                                                     0\n",
              "Name                                                                                           0\n",
              "Ship type                                                                                      0\n",
              "Reporting Period                                                                               0\n",
              "DoC issue date                                                                                 0\n",
              "DoC expiry date                                                                                0\n",
              "Verifier Name                                                                                  0\n",
              "Verifier NAB                                                                                   0\n",
              "Verifier Address                                                                               0\n",
              "Verifier City                                                                                  0\n",
              "Verifier Accreditation number                                                                  0\n",
              "Verifier Country                                                                               0\n",
              "Total fuel consumption [m tonnes]                                                              0\n",
              "Total CO₂ emissions [m tonnes]                                                                 0\n",
              "CO₂ emissions from all voyages between ports under a MS jurisdiction [m tonnes]                0\n",
              "CO₂ emissions from all voyages which departed from ports under a MS jurisdiction [m tonnes]    0\n",
              "CO₂ emissions from all voyages to ports under a MS jurisdiction [m tonnes]                     0\n",
              "CO₂ emissions which occurred within ports under a MS jurisdiction at berth [m tonnes]          0\n",
              "Annual Time spent at sea [hours]                                                               0\n",
              "Annual average Fuel consumption per distance [kg / n mile]                                     0\n",
              "Annual average CO₂ emissions per distance [kg CO₂ / n mile]                                    0\n",
              "Time spent at sea [hours]                                                                      0\n",
              "dtype: int64"
            ]
          },
          "metadata": {},
          "execution_count": 8
        }
      ]
    },
    {
      "cell_type": "code",
      "source": [
        "co2.dtypes"
      ],
      "metadata": {
        "colab": {
          "base_uri": "https://localhost:8080/"
        },
        "id": "GTyZwCv5-Z_u",
        "outputId": "d8da6e84-a53c-450e-95a3-3ef9c23e9ed1"
      },
      "execution_count": null,
      "outputs": [
        {
          "output_type": "execute_result",
          "data": {
            "text/plain": [
              "IMO Number                                                                                       int64\n",
              "Name                                                                                            object\n",
              "Ship type                                                                                       object\n",
              "Reporting Period                                                                                 int64\n",
              "DoC issue date                                                                                  object\n",
              "DoC expiry date                                                                                 object\n",
              "Verifier Name                                                                                   object\n",
              "Verifier NAB                                                                                    object\n",
              "Verifier Address                                                                                object\n",
              "Verifier City                                                                                   object\n",
              "Verifier Accreditation number                                                                   object\n",
              "Verifier Country                                                                                object\n",
              "Total fuel consumption [m tonnes]                                                              float64\n",
              "Total CO₂ emissions [m tonnes]                                                                 float64\n",
              "CO₂ emissions from all voyages between ports under a MS jurisdiction [m tonnes]                float64\n",
              "CO₂ emissions from all voyages which departed from ports under a MS jurisdiction [m tonnes]    float64\n",
              "CO₂ emissions from all voyages to ports under a MS jurisdiction [m tonnes]                     float64\n",
              "CO₂ emissions which occurred within ports under a MS jurisdiction at berth [m tonnes]          float64\n",
              "Annual Time spent at sea [hours]                                                               float64\n",
              "Annual average Fuel consumption per distance [kg / n mile]                                      object\n",
              "Annual average CO₂ emissions per distance [kg CO₂ / n mile]                                     object\n",
              "Time spent at sea [hours]                                                                      float64\n",
              "dtype: object"
            ]
          },
          "metadata": {},
          "execution_count": 9
        }
      ]
    },
    {
      "cell_type": "code",
      "source": [
        "co2['Ship type'].value_counts()"
      ],
      "metadata": {
        "colab": {
          "base_uri": "https://localhost:8080/"
        },
        "id": "PHyB-jIg-7qo",
        "outputId": "24a5a0fb-d25a-40b7-80fd-d00fcdb8a34b"
      },
      "execution_count": null,
      "outputs": [
        {
          "output_type": "execute_result",
          "data": {
            "text/plain": [
              "Bulk carrier                  4099\n",
              "Oil tanker                    1996\n",
              "Container ship                1857\n",
              "Chemical tanker               1432\n",
              "General cargo ship            1208\n",
              "Vehicle carrier                469\n",
              "Ro-pax ship                    409\n",
              "LNG carrier                    389\n",
              "Gas carrier                    355\n",
              "Other ship types               247\n",
              "Ro-ro ship                     228\n",
              "Passenger ship                 186\n",
              "Refrigerated cargo carrier     145\n",
              "Container/ro-ro cargo ship      60\n",
              "Combination carrier              9\n",
              "Name: Ship type, dtype: int64"
            ]
          },
          "metadata": {},
          "execution_count": 10
        }
      ]
    },
    {
      "cell_type": "code",
      "source": [
        "co2['Verifier Country'].value_counts"
      ],
      "metadata": {
        "colab": {
          "base_uri": "https://localhost:8080/"
        },
        "id": "IoP1gkRv_CH8",
        "outputId": "337c64e1-2533-4416-d58b-0cc7afd26578"
      },
      "execution_count": null,
      "outputs": [
        {
          "output_type": "execute_result",
          "data": {
            "text/plain": [
              "<bound method IndexOpsMixin.value_counts of 0        France\n",
              "1        Greece\n",
              "2        France\n",
              "3        Greece\n",
              "4        Greece\n",
              "          ...  \n",
              "13084     Japan\n",
              "13085    Greece\n",
              "13086    Greece\n",
              "13087     Japan\n",
              "13088    Greece\n",
              "Name: Verifier Country, Length: 13089, dtype: object>"
            ]
          },
          "metadata": {},
          "execution_count": 11
        }
      ]
    },
    {
      "cell_type": "code",
      "source": [
        "co2['Verifier Address'].value_counts"
      ],
      "metadata": {
        "colab": {
          "base_uri": "https://localhost:8080/"
        },
        "id": "quQFsMQD_Kc5",
        "outputId": "5245904d-ebd7-4f7a-9c38-0874b7d3b383"
      },
      "execution_count": null,
      "outputs": [
        {
          "output_type": "execute_result",
          "data": {
            "text/plain": [
              "<bound method IndexOpsMixin.value_counts of 0                                 1 Place Zaha Hadid\n",
              "1                 2-4 Iakovou Dragatsi street, 18535\n",
              "2                                 33 Avenue du Maine\n",
              "3        Kodrou & Filellinon str., 15232, Chalandri,\n",
              "4        Kodrou & Filellinon str., 15232, Chalandri,\n",
              "                            ...                     \n",
              "13084                      4-7, Kioi-Cho, Chiyoda-Ku\n",
              "13085                            348 Syggrou Avenue,\n",
              "13086       16, Efplias Str.\\n185 37 Piraeus, Greece\n",
              "13087                      4-7, Kioi-Cho, Chiyoda-Ku\n",
              "13088       5, Aitolikou Street and Kastoros - 18545\n",
              "Name: Verifier Address, Length: 13089, dtype: object>"
            ]
          },
          "metadata": {},
          "execution_count": 12
        }
      ]
    },
    {
      "cell_type": "code",
      "source": [
        "co2['Annual average CO₂ emissions per distance [kg CO₂ / n mile]'].value_counts()"
      ],
      "metadata": {
        "colab": {
          "base_uri": "https://localhost:8080/"
        },
        "id": "23bpKYhB_SEe",
        "outputId": "340c414e-9134-4a9c-f69a-f0f2dc5a7e68"
      },
      "execution_count": null,
      "outputs": [
        {
          "output_type": "execute_result",
          "data": {
            "text/plain": [
              "Division by zero!    211\n",
              "339.37                 5\n",
              "354.64                 4\n",
              "266.21                 4\n",
              "340.34                 4\n",
              "                    ... \n",
              "178.1                  1\n",
              "250.99                 1\n",
              "229.76                 1\n",
              "300.53                 1\n",
              "208.71                 1\n",
              "Name: Annual average CO₂ emissions per distance [kg CO₂ / n mile], Length: 11276, dtype: int64"
            ]
          },
          "metadata": {},
          "execution_count": 13
        }
      ]
    },
    {
      "cell_type": "code",
      "source": [
        "co2['Annual average CO₂ emissions per distance [kg CO₂ / n mile]'] = pd.to_numeric(co2['Annual average CO₂ emissions per distance [kg CO₂ / n mile]'], errors='coerce')\n",
        "\n",
        "co2['Annual average CO₂ emissions per distance [kg CO₂ / n mile]'] = co2['Annual average CO₂ emissions per distance [kg CO₂ / n mile]'].fillna(0).astype(int)\n",
        "\n"
      ],
      "metadata": {
        "id": "f9jZhoPa_7a_"
      },
      "execution_count": null,
      "outputs": []
    },
    {
      "cell_type": "code",
      "source": [
        "co2.dtypes"
      ],
      "metadata": {
        "colab": {
          "base_uri": "https://localhost:8080/"
        },
        "id": "qH1kF0JyBJh_",
        "outputId": "473dae1b-2ef4-4080-b1e0-2fec0e3dcfdc"
      },
      "execution_count": null,
      "outputs": [
        {
          "output_type": "execute_result",
          "data": {
            "text/plain": [
              "IMO Number                                                                                       int64\n",
              "Name                                                                                            object\n",
              "Ship type                                                                                       object\n",
              "Reporting Period                                                                                 int64\n",
              "DoC issue date                                                                                  object\n",
              "DoC expiry date                                                                                 object\n",
              "Verifier Name                                                                                   object\n",
              "Verifier NAB                                                                                    object\n",
              "Verifier Address                                                                                object\n",
              "Verifier City                                                                                   object\n",
              "Verifier Accreditation number                                                                   object\n",
              "Verifier Country                                                                                object\n",
              "Total fuel consumption [m tonnes]                                                              float64\n",
              "Total CO₂ emissions [m tonnes]                                                                 float64\n",
              "CO₂ emissions from all voyages between ports under a MS jurisdiction [m tonnes]                float64\n",
              "CO₂ emissions from all voyages which departed from ports under a MS jurisdiction [m tonnes]    float64\n",
              "CO₂ emissions from all voyages to ports under a MS jurisdiction [m tonnes]                     float64\n",
              "CO₂ emissions which occurred within ports under a MS jurisdiction at berth [m tonnes]          float64\n",
              "Annual Time spent at sea [hours]                                                               float64\n",
              "Annual average Fuel consumption per distance [kg / n mile]                                      object\n",
              "Annual average CO₂ emissions per distance [kg CO₂ / n mile]                                      int64\n",
              "Time spent at sea [hours]                                                                      float64\n",
              "dtype: object"
            ]
          },
          "metadata": {},
          "execution_count": 15
        }
      ]
    },
    {
      "cell_type": "code",
      "source": [
        "co2['Annual average Fuel consumption per distance [kg / n mile]'] = pd.to_numeric(co2['Annual average Fuel consumption per distance [kg / n mile]'], errors='coerce')\n",
        "\n",
        "co2['Annual average Fuel consumption per distance [kg / n mile]'] = co2['Annual average Fuel consumption per distance [kg / n mile]'].fillna(0).astype(int)\n"
      ],
      "metadata": {
        "id": "laCCVdlbBpxp"
      },
      "execution_count": null,
      "outputs": []
    },
    {
      "cell_type": "code",
      "source": [
        "co2.dtypes"
      ],
      "metadata": {
        "colab": {
          "base_uri": "https://localhost:8080/"
        },
        "id": "d5zbttvMCOIC",
        "outputId": "298f9cc8-2673-4110-e178-c4f593550168"
      },
      "execution_count": null,
      "outputs": [
        {
          "output_type": "execute_result",
          "data": {
            "text/plain": [
              "IMO Number                                                                                       int64\n",
              "Name                                                                                            object\n",
              "Ship type                                                                                       object\n",
              "Reporting Period                                                                                 int64\n",
              "DoC issue date                                                                                  object\n",
              "DoC expiry date                                                                                 object\n",
              "Verifier Name                                                                                   object\n",
              "Verifier NAB                                                                                    object\n",
              "Verifier Address                                                                                object\n",
              "Verifier City                                                                                   object\n",
              "Verifier Accreditation number                                                                   object\n",
              "Verifier Country                                                                                object\n",
              "Total fuel consumption [m tonnes]                                                              float64\n",
              "Total CO₂ emissions [m tonnes]                                                                 float64\n",
              "CO₂ emissions from all voyages between ports under a MS jurisdiction [m tonnes]                float64\n",
              "CO₂ emissions from all voyages which departed from ports under a MS jurisdiction [m tonnes]    float64\n",
              "CO₂ emissions from all voyages to ports under a MS jurisdiction [m tonnes]                     float64\n",
              "CO₂ emissions which occurred within ports under a MS jurisdiction at berth [m tonnes]          float64\n",
              "Annual Time spent at sea [hours]                                                               float64\n",
              "Annual average Fuel consumption per distance [kg / n mile]                                       int64\n",
              "Annual average CO₂ emissions per distance [kg CO₂ / n mile]                                      int64\n",
              "Time spent at sea [hours]                                                                      float64\n",
              "dtype: object"
            ]
          },
          "metadata": {},
          "execution_count": 17
        }
      ]
    },
    {
      "cell_type": "code",
      "source": [
        "co2['Ship type'] = co2['Ship type'].map( {'Bulk carrier':1,\n",
        "'Oil tanker':2,\n",
        "'Container ship':3,\n",
        "'Chemical tanker':4,\n",
        "'General cargo ship':5,\n",
        "'Vehicle carrier':6,\n",
        "'Ro-pax ship':7,\n",
        "'LNG carrier' :8,\n",
        "'Gas carrier':9,\n",
        "'Other ship types':10,\n",
        "'Ro-ro ship':11,\n",
        "'Passenger ship':12,\n",
        "'Refrigerated cargo carrier':13,\n",
        "'Container/ro-ro cargo ship':14,\n",
        "'Combination carrier':15 } )\n"
      ],
      "metadata": {
        "id": "9j5P8kNTCSdu"
      },
      "execution_count": null,
      "outputs": []
    },
    {
      "cell_type": "code",
      "source": [
        "co2.dtypes"
      ],
      "metadata": {
        "colab": {
          "base_uri": "https://localhost:8080/"
        },
        "id": "yzDgSsJMDvDO",
        "outputId": "4a7f42d4-c208-4d22-aad3-b999085e025e"
      },
      "execution_count": null,
      "outputs": [
        {
          "output_type": "execute_result",
          "data": {
            "text/plain": [
              "IMO Number                                                                                       int64\n",
              "Name                                                                                            object\n",
              "Ship type                                                                                        int64\n",
              "Reporting Period                                                                                 int64\n",
              "DoC issue date                                                                                  object\n",
              "DoC expiry date                                                                                 object\n",
              "Verifier Name                                                                                   object\n",
              "Verifier NAB                                                                                    object\n",
              "Verifier Address                                                                                object\n",
              "Verifier City                                                                                   object\n",
              "Verifier Accreditation number                                                                   object\n",
              "Verifier Country                                                                                object\n",
              "Total fuel consumption [m tonnes]                                                              float64\n",
              "Total CO₂ emissions [m tonnes]                                                                 float64\n",
              "CO₂ emissions from all voyages between ports under a MS jurisdiction [m tonnes]                float64\n",
              "CO₂ emissions from all voyages which departed from ports under a MS jurisdiction [m tonnes]    float64\n",
              "CO₂ emissions from all voyages to ports under a MS jurisdiction [m tonnes]                     float64\n",
              "CO₂ emissions which occurred within ports under a MS jurisdiction at berth [m tonnes]          float64\n",
              "Annual Time spent at sea [hours]                                                               float64\n",
              "Annual average Fuel consumption per distance [kg / n mile]                                       int64\n",
              "Annual average CO₂ emissions per distance [kg CO₂ / n mile]                                      int64\n",
              "Time spent at sea [hours]                                                                      float64\n",
              "dtype: object"
            ]
          },
          "metadata": {},
          "execution_count": 19
        }
      ]
    },
    {
      "cell_type": "code",
      "source": [],
      "metadata": {
        "id": "64RB0ceGGnm0"
      },
      "execution_count": null,
      "outputs": []
    },
    {
      "cell_type": "code",
      "source": [
        "co2['Name'].value_counts()"
      ],
      "metadata": {
        "colab": {
          "base_uri": "https://localhost:8080/"
        },
        "id": "KUZYPBU2E3ax",
        "outputId": "12582349-30e3-4fab-99bf-2a8daaee8a0b"
      },
      "execution_count": null,
      "outputs": [
        {
          "output_type": "execute_result",
          "data": {
            "text/plain": [
              "AURORA            4\n",
              "TAURUS            3\n",
              "CALYPSO           3\n",
              "ALEXANDRA         3\n",
              "GLADIATOR         3\n",
              "                 ..\n",
              "GASLOG CHELSEA    1\n",
              "MARTIN I SOLER    1\n",
              "JSP BORA          1\n",
              "KEROS VOYAGER     1\n",
              "BOW PANTHER       1\n",
              "Name: Name, Length: 12894, dtype: int64"
            ]
          },
          "metadata": {},
          "execution_count": 20
        }
      ]
    },
    {
      "cell_type": "code",
      "source": [
        "co2=co2.drop(columns=['Name','DoC issue date','Verifier Country','Verifier City','Verifier Address','Verifier NAB','Verifier Name','DoC expiry date','Verifier Accreditation number','Verifier Country'], axis=1)"
      ],
      "metadata": {
        "id": "ZOZOfwlHE6Zk"
      },
      "execution_count": null,
      "outputs": []
    },
    {
      "cell_type": "code",
      "source": [
        "co2.dtypes"
      ],
      "metadata": {
        "colab": {
          "base_uri": "https://localhost:8080/"
        },
        "id": "MHbXilTEGxXd",
        "outputId": "f4409d6b-4417-4ce0-8a54-b3642f90b2a5"
      },
      "execution_count": null,
      "outputs": [
        {
          "output_type": "execute_result",
          "data": {
            "text/plain": [
              "IMO Number                                                                                       int64\n",
              "Ship type                                                                                        int64\n",
              "Reporting Period                                                                                 int64\n",
              "Total fuel consumption [m tonnes]                                                              float64\n",
              "Total CO₂ emissions [m tonnes]                                                                 float64\n",
              "CO₂ emissions from all voyages between ports under a MS jurisdiction [m tonnes]                float64\n",
              "CO₂ emissions from all voyages which departed from ports under a MS jurisdiction [m tonnes]    float64\n",
              "CO₂ emissions from all voyages to ports under a MS jurisdiction [m tonnes]                     float64\n",
              "CO₂ emissions which occurred within ports under a MS jurisdiction at berth [m tonnes]          float64\n",
              "Annual Time spent at sea [hours]                                                               float64\n",
              "Annual average Fuel consumption per distance [kg / n mile]                                       int64\n",
              "Annual average CO₂ emissions per distance [kg CO₂ / n mile]                                      int64\n",
              "Time spent at sea [hours]                                                                      float64\n",
              "dtype: object"
            ]
          },
          "metadata": {},
          "execution_count": 25
        }
      ]
    },
    {
      "cell_type": "code",
      "source": [
        "co2.to_csv('your_processed_data.csv', index=False)"
      ],
      "metadata": {
        "id": "2GM3ht0DuL7c"
      },
      "execution_count": null,
      "outputs": []
    },
    {
      "cell_type": "code",
      "source": [
        "import pandas as pd\n",
        "import numpy as np\n",
        "import tensorflow as tf\n",
        "from tensorflow.keras.models import Sequential\n",
        "from tensorflow.keras.layers import Conv2D, MaxPooling2D, Flatten, Dense\n",
        "from sklearn.model_selection import train_test_split\n",
        "from sklearn.preprocessing import StandardScaler\n",
        "\n",
        "# Assuming you have a DataFrame named 'df' after performing EDA\n",
        "# Replace 'your_processed_data.csv' with the desired filename\n",
        "data = pd.read_csv('/content/your_processed_data.csv')\n",
        "\n",
        "# Extract features and labels\n",
        "X = data.drop(\"Annual average CO₂ emissions per distance [kg CO₂ / n mile]\", axis=1).values\n",
        "y = data[\"Annual average CO₂ emissions per distance [kg CO₂ / n mile]\"].values\n",
        "\n",
        "# Standardize features\n",
        "scaler = StandardScaler()\n",
        "X = scaler.fit_transform(X)\n",
        "\n",
        "# Reshape features for a 1D input (since it's tabular data)\n",
        "X = X.reshape(-1, X.shape[1])\n",
        "\n",
        "# Split the data into training and testing sets\n",
        "X_train, X_test, y_train, y_test = train_test_split(X, y, test_size=0.2, random_state=42)\n",
        "\n",
        "# Build a simple MLP model\n",
        "model = Sequential()\n",
        "model.add(Dense(64, activation='relu', input_shape=(X.shape[1],)))\n",
        "model.add(Dense(32, activation='relu'))\n",
        "model.add(Dense(1, activation='linear'))  # Regression layer, predicting CO2 emissions\n",
        "\n",
        "\n",
        "\n",
        "\n",
        "\n",
        "# Compile the model\n",
        "model.compile(optimizer='adam', loss='mean_squared_error', metrics=['mae'])\n",
        "\n",
        "# Train the model\n",
        "model.fit(X_train, y_train, epochs=10, batch_size=32, validation_data=(X_test, y_test))\n",
        "\n",
        "# Evaluate the model\n",
        "loss, mae = model.evaluate(X_test, y_test)\n",
        "print(f'Mean Absolute Error: {mae}')\n",
        "\n",
        "# Make predictions\n",
        "predictions = model.predict(X_test)\n"
      ],
      "metadata": {
        "colab": {
          "base_uri": "https://localhost:8080/"
        },
        "id": "Qm6lhJKFuW-h",
        "outputId": "2d334221-7317-4145-9718-180b6663f271"
      },
      "execution_count": null,
      "outputs": [
        {
          "output_type": "stream",
          "name": "stdout",
          "text": [
            "Epoch 1/10\n",
            "328/328 [==============================] - 2s 3ms/step - loss: 306580.0938 - mae: 317.2407 - val_loss: 313757.0938 - val_mae: 215.5083\n",
            "Epoch 2/10\n",
            "328/328 [==============================] - 1s 3ms/step - loss: 196008.9219 - mae: 162.3929 - val_loss: 254869.4375 - val_mae: 153.3345\n",
            "Epoch 3/10\n",
            "328/328 [==============================] - 1s 4ms/step - loss: 169130.7188 - mae: 132.5580 - val_loss: 226223.7188 - val_mae: 128.9064\n",
            "Epoch 4/10\n",
            "328/328 [==============================] - 1s 4ms/step - loss: 151055.9844 - mae: 110.9124 - val_loss: 210940.7500 - val_mae: 109.7287\n",
            "Epoch 5/10\n",
            "328/328 [==============================] - 1s 4ms/step - loss: 138596.4844 - mae: 98.7648 - val_loss: 187388.2656 - val_mae: 94.1053\n",
            "Epoch 6/10\n",
            "328/328 [==============================] - 1s 3ms/step - loss: 125303.5312 - mae: 84.9747 - val_loss: 169517.7188 - val_mae: 90.1402\n",
            "Epoch 7/10\n",
            "328/328 [==============================] - 1s 2ms/step - loss: 113874.6953 - mae: 80.2894 - val_loss: 153705.4844 - val_mae: 81.4103\n",
            "Epoch 8/10\n",
            "328/328 [==============================] - 1s 2ms/step - loss: 102942.8750 - mae: 74.0439 - val_loss: 137278.5156 - val_mae: 74.9642\n",
            "Epoch 9/10\n",
            "328/328 [==============================] - 1s 2ms/step - loss: 91389.4375 - mae: 67.6204 - val_loss: 119868.4531 - val_mae: 67.9664\n",
            "Epoch 10/10\n",
            "328/328 [==============================] - 1s 2ms/step - loss: 79826.8281 - mae: 61.5673 - val_loss: 103088.9141 - val_mae: 60.8156\n",
            "82/82 [==============================] - 0s 2ms/step - loss: 103088.9141 - mae: 60.8156\n",
            "Mean Absolute Error: 60.81556701660156\n",
            "82/82 [==============================] - 0s 1ms/step\n"
          ]
        }
      ]
    },
    {
      "cell_type": "code",
      "source": [],
      "metadata": {
        "id": "8btc4coGwIV-"
      },
      "execution_count": null,
      "outputs": []
    }
  ]
}
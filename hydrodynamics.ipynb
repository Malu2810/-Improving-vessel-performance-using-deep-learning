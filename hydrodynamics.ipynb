{
  "nbformat": 4,
  "nbformat_minor": 0,
  "metadata": {
    "colab": {
      "provenance": [],
      "authorship_tag": "ABX9TyPSuC3z2kOg/3qxXEdHkakP",
      "include_colab_link": true
    },
    "kernelspec": {
      "name": "python3",
      "display_name": "Python 3"
    },
    "language_info": {
      "name": "python"
    }
  },
  "cells": [
    {
      "cell_type": "markdown",
      "metadata": {
        "id": "view-in-github",
        "colab_type": "text"
      },
      "source": [
        "<a href=\"https://colab.research.google.com/github/Malu2810/-Improving-vessel-performance-using-deep-learning/blob/main/hydrodynamics.ipynb\" target=\"_parent\"><img src=\"https://colab.research.google.com/assets/colab-badge.svg\" alt=\"Open In Colab\"/></a>"
      ]
    },
    {
      "cell_type": "code",
      "execution_count": null,
      "metadata": {
        "id": "oSSXu48AgjpE"
      },
      "outputs": [],
      "source": [
        "import pandas as pd\n",
        "import numpy as np\n",
        "import seaborn as sns\n",
        "from matplotlib import pyplot as plt"
      ]
    },
    {
      "cell_type": "code",
      "source": [
        "df=pd.read_csv(\"/content/yacht_hydro.csv\")"
      ],
      "metadata": {
        "id": "gvJn5ehTgu58"
      },
      "execution_count": null,
      "outputs": []
    },
    {
      "cell_type": "code",
      "source": [
        "df.head()"
      ],
      "metadata": {
        "colab": {
          "base_uri": "https://localhost:8080/",
          "height": 206
        },
        "id": "lMnrJ15Dg2jg",
        "outputId": "11399263-d411-483d-fd24-7eef01c28bcf"
      },
      "execution_count": null,
      "outputs": [
        {
          "output_type": "execute_result",
          "data": {
            "text/plain": [
              "    LC     PC   L/D  B/Dr   L/B     Fr    Rr\n",
              "0 -2.3  0.568  4.78  3.99  3.17  0.125  0.11\n",
              "1 -2.3  0.568  4.78  3.99  3.17  0.150  0.27\n",
              "2 -2.3  0.568  4.78  3.99  3.17  0.175  0.47\n",
              "3 -2.3  0.568  4.78  3.99  3.17  0.200  0.78\n",
              "4 -2.3  0.568  4.78  3.99  3.17  0.225  1.18"
            ],
            "text/html": [
              "\n",
              "  <div id=\"df-fb74e708-ecf2-4351-9ba5-ee6cf0a00570\" class=\"colab-df-container\">\n",
              "    <div>\n",
              "<style scoped>\n",
              "    .dataframe tbody tr th:only-of-type {\n",
              "        vertical-align: middle;\n",
              "    }\n",
              "\n",
              "    .dataframe tbody tr th {\n",
              "        vertical-align: top;\n",
              "    }\n",
              "\n",
              "    .dataframe thead th {\n",
              "        text-align: right;\n",
              "    }\n",
              "</style>\n",
              "<table border=\"1\" class=\"dataframe\">\n",
              "  <thead>\n",
              "    <tr style=\"text-align: right;\">\n",
              "      <th></th>\n",
              "      <th>LC</th>\n",
              "      <th>PC</th>\n",
              "      <th>L/D</th>\n",
              "      <th>B/Dr</th>\n",
              "      <th>L/B</th>\n",
              "      <th>Fr</th>\n",
              "      <th>Rr</th>\n",
              "    </tr>\n",
              "  </thead>\n",
              "  <tbody>\n",
              "    <tr>\n",
              "      <th>0</th>\n",
              "      <td>-2.3</td>\n",
              "      <td>0.568</td>\n",
              "      <td>4.78</td>\n",
              "      <td>3.99</td>\n",
              "      <td>3.17</td>\n",
              "      <td>0.125</td>\n",
              "      <td>0.11</td>\n",
              "    </tr>\n",
              "    <tr>\n",
              "      <th>1</th>\n",
              "      <td>-2.3</td>\n",
              "      <td>0.568</td>\n",
              "      <td>4.78</td>\n",
              "      <td>3.99</td>\n",
              "      <td>3.17</td>\n",
              "      <td>0.150</td>\n",
              "      <td>0.27</td>\n",
              "    </tr>\n",
              "    <tr>\n",
              "      <th>2</th>\n",
              "      <td>-2.3</td>\n",
              "      <td>0.568</td>\n",
              "      <td>4.78</td>\n",
              "      <td>3.99</td>\n",
              "      <td>3.17</td>\n",
              "      <td>0.175</td>\n",
              "      <td>0.47</td>\n",
              "    </tr>\n",
              "    <tr>\n",
              "      <th>3</th>\n",
              "      <td>-2.3</td>\n",
              "      <td>0.568</td>\n",
              "      <td>4.78</td>\n",
              "      <td>3.99</td>\n",
              "      <td>3.17</td>\n",
              "      <td>0.200</td>\n",
              "      <td>0.78</td>\n",
              "    </tr>\n",
              "    <tr>\n",
              "      <th>4</th>\n",
              "      <td>-2.3</td>\n",
              "      <td>0.568</td>\n",
              "      <td>4.78</td>\n",
              "      <td>3.99</td>\n",
              "      <td>3.17</td>\n",
              "      <td>0.225</td>\n",
              "      <td>1.18</td>\n",
              "    </tr>\n",
              "  </tbody>\n",
              "</table>\n",
              "</div>\n",
              "    <div class=\"colab-df-buttons\">\n",
              "\n",
              "  <div class=\"colab-df-container\">\n",
              "    <button class=\"colab-df-convert\" onclick=\"convertToInteractive('df-fb74e708-ecf2-4351-9ba5-ee6cf0a00570')\"\n",
              "            title=\"Convert this dataframe to an interactive table.\"\n",
              "            style=\"display:none;\">\n",
              "\n",
              "  <svg xmlns=\"http://www.w3.org/2000/svg\" height=\"24px\" viewBox=\"0 -960 960 960\">\n",
              "    <path d=\"M120-120v-720h720v720H120Zm60-500h600v-160H180v160Zm220 220h160v-160H400v160Zm0 220h160v-160H400v160ZM180-400h160v-160H180v160Zm440 0h160v-160H620v160ZM180-180h160v-160H180v160Zm440 0h160v-160H620v160Z\"/>\n",
              "  </svg>\n",
              "    </button>\n",
              "\n",
              "  <style>\n",
              "    .colab-df-container {\n",
              "      display:flex;\n",
              "      gap: 12px;\n",
              "    }\n",
              "\n",
              "    .colab-df-convert {\n",
              "      background-color: #E8F0FE;\n",
              "      border: none;\n",
              "      border-radius: 50%;\n",
              "      cursor: pointer;\n",
              "      display: none;\n",
              "      fill: #1967D2;\n",
              "      height: 32px;\n",
              "      padding: 0 0 0 0;\n",
              "      width: 32px;\n",
              "    }\n",
              "\n",
              "    .colab-df-convert:hover {\n",
              "      background-color: #E2EBFA;\n",
              "      box-shadow: 0px 1px 2px rgba(60, 64, 67, 0.3), 0px 1px 3px 1px rgba(60, 64, 67, 0.15);\n",
              "      fill: #174EA6;\n",
              "    }\n",
              "\n",
              "    .colab-df-buttons div {\n",
              "      margin-bottom: 4px;\n",
              "    }\n",
              "\n",
              "    [theme=dark] .colab-df-convert {\n",
              "      background-color: #3B4455;\n",
              "      fill: #D2E3FC;\n",
              "    }\n",
              "\n",
              "    [theme=dark] .colab-df-convert:hover {\n",
              "      background-color: #434B5C;\n",
              "      box-shadow: 0px 1px 3px 1px rgba(0, 0, 0, 0.15);\n",
              "      filter: drop-shadow(0px 1px 2px rgba(0, 0, 0, 0.3));\n",
              "      fill: #FFFFFF;\n",
              "    }\n",
              "  </style>\n",
              "\n",
              "    <script>\n",
              "      const buttonEl =\n",
              "        document.querySelector('#df-fb74e708-ecf2-4351-9ba5-ee6cf0a00570 button.colab-df-convert');\n",
              "      buttonEl.style.display =\n",
              "        google.colab.kernel.accessAllowed ? 'block' : 'none';\n",
              "\n",
              "      async function convertToInteractive(key) {\n",
              "        const element = document.querySelector('#df-fb74e708-ecf2-4351-9ba5-ee6cf0a00570');\n",
              "        const dataTable =\n",
              "          await google.colab.kernel.invokeFunction('convertToInteractive',\n",
              "                                                    [key], {});\n",
              "        if (!dataTable) return;\n",
              "\n",
              "        const docLinkHtml = 'Like what you see? Visit the ' +\n",
              "          '<a target=\"_blank\" href=https://colab.research.google.com/notebooks/data_table.ipynb>data table notebook</a>'\n",
              "          + ' to learn more about interactive tables.';\n",
              "        element.innerHTML = '';\n",
              "        dataTable['output_type'] = 'display_data';\n",
              "        await google.colab.output.renderOutput(dataTable, element);\n",
              "        const docLink = document.createElement('div');\n",
              "        docLink.innerHTML = docLinkHtml;\n",
              "        element.appendChild(docLink);\n",
              "      }\n",
              "    </script>\n",
              "  </div>\n",
              "\n",
              "\n",
              "<div id=\"df-eb883dde-8be7-469e-9463-8793b42ff9df\">\n",
              "  <button class=\"colab-df-quickchart\" onclick=\"quickchart('df-eb883dde-8be7-469e-9463-8793b42ff9df')\"\n",
              "            title=\"Suggest charts\"\n",
              "            style=\"display:none;\">\n",
              "\n",
              "<svg xmlns=\"http://www.w3.org/2000/svg\" height=\"24px\"viewBox=\"0 0 24 24\"\n",
              "     width=\"24px\">\n",
              "    <g>\n",
              "        <path d=\"M19 3H5c-1.1 0-2 .9-2 2v14c0 1.1.9 2 2 2h14c1.1 0 2-.9 2-2V5c0-1.1-.9-2-2-2zM9 17H7v-7h2v7zm4 0h-2V7h2v10zm4 0h-2v-4h2v4z\"/>\n",
              "    </g>\n",
              "</svg>\n",
              "  </button>\n",
              "\n",
              "<style>\n",
              "  .colab-df-quickchart {\n",
              "      --bg-color: #E8F0FE;\n",
              "      --fill-color: #1967D2;\n",
              "      --hover-bg-color: #E2EBFA;\n",
              "      --hover-fill-color: #174EA6;\n",
              "      --disabled-fill-color: #AAA;\n",
              "      --disabled-bg-color: #DDD;\n",
              "  }\n",
              "\n",
              "  [theme=dark] .colab-df-quickchart {\n",
              "      --bg-color: #3B4455;\n",
              "      --fill-color: #D2E3FC;\n",
              "      --hover-bg-color: #434B5C;\n",
              "      --hover-fill-color: #FFFFFF;\n",
              "      --disabled-bg-color: #3B4455;\n",
              "      --disabled-fill-color: #666;\n",
              "  }\n",
              "\n",
              "  .colab-df-quickchart {\n",
              "    background-color: var(--bg-color);\n",
              "    border: none;\n",
              "    border-radius: 50%;\n",
              "    cursor: pointer;\n",
              "    display: none;\n",
              "    fill: var(--fill-color);\n",
              "    height: 32px;\n",
              "    padding: 0;\n",
              "    width: 32px;\n",
              "  }\n",
              "\n",
              "  .colab-df-quickchart:hover {\n",
              "    background-color: var(--hover-bg-color);\n",
              "    box-shadow: 0 1px 2px rgba(60, 64, 67, 0.3), 0 1px 3px 1px rgba(60, 64, 67, 0.15);\n",
              "    fill: var(--button-hover-fill-color);\n",
              "  }\n",
              "\n",
              "  .colab-df-quickchart-complete:disabled,\n",
              "  .colab-df-quickchart-complete:disabled:hover {\n",
              "    background-color: var(--disabled-bg-color);\n",
              "    fill: var(--disabled-fill-color);\n",
              "    box-shadow: none;\n",
              "  }\n",
              "\n",
              "  .colab-df-spinner {\n",
              "    border: 2px solid var(--fill-color);\n",
              "    border-color: transparent;\n",
              "    border-bottom-color: var(--fill-color);\n",
              "    animation:\n",
              "      spin 1s steps(1) infinite;\n",
              "  }\n",
              "\n",
              "  @keyframes spin {\n",
              "    0% {\n",
              "      border-color: transparent;\n",
              "      border-bottom-color: var(--fill-color);\n",
              "      border-left-color: var(--fill-color);\n",
              "    }\n",
              "    20% {\n",
              "      border-color: transparent;\n",
              "      border-left-color: var(--fill-color);\n",
              "      border-top-color: var(--fill-color);\n",
              "    }\n",
              "    30% {\n",
              "      border-color: transparent;\n",
              "      border-left-color: var(--fill-color);\n",
              "      border-top-color: var(--fill-color);\n",
              "      border-right-color: var(--fill-color);\n",
              "    }\n",
              "    40% {\n",
              "      border-color: transparent;\n",
              "      border-right-color: var(--fill-color);\n",
              "      border-top-color: var(--fill-color);\n",
              "    }\n",
              "    60% {\n",
              "      border-color: transparent;\n",
              "      border-right-color: var(--fill-color);\n",
              "    }\n",
              "    80% {\n",
              "      border-color: transparent;\n",
              "      border-right-color: var(--fill-color);\n",
              "      border-bottom-color: var(--fill-color);\n",
              "    }\n",
              "    90% {\n",
              "      border-color: transparent;\n",
              "      border-bottom-color: var(--fill-color);\n",
              "    }\n",
              "  }\n",
              "</style>\n",
              "\n",
              "  <script>\n",
              "    async function quickchart(key) {\n",
              "      const quickchartButtonEl =\n",
              "        document.querySelector('#' + key + ' button');\n",
              "      quickchartButtonEl.disabled = true;  // To prevent multiple clicks.\n",
              "      quickchartButtonEl.classList.add('colab-df-spinner');\n",
              "      try {\n",
              "        const charts = await google.colab.kernel.invokeFunction(\n",
              "            'suggestCharts', [key], {});\n",
              "      } catch (error) {\n",
              "        console.error('Error during call to suggestCharts:', error);\n",
              "      }\n",
              "      quickchartButtonEl.classList.remove('colab-df-spinner');\n",
              "      quickchartButtonEl.classList.add('colab-df-quickchart-complete');\n",
              "    }\n",
              "    (() => {\n",
              "      let quickchartButtonEl =\n",
              "        document.querySelector('#df-eb883dde-8be7-469e-9463-8793b42ff9df button');\n",
              "      quickchartButtonEl.style.display =\n",
              "        google.colab.kernel.accessAllowed ? 'block' : 'none';\n",
              "    })();\n",
              "  </script>\n",
              "</div>\n",
              "\n",
              "    </div>\n",
              "  </div>\n"
            ]
          },
          "metadata": {},
          "execution_count": 3
        }
      ]
    },
    {
      "cell_type": "code",
      "source": [
        "df.info()"
      ],
      "metadata": {
        "colab": {
          "base_uri": "https://localhost:8080/"
        },
        "id": "gxpH4WM9g3nt",
        "outputId": "d1139a58-88ed-4c67-f6a6-8e239c9193de"
      },
      "execution_count": null,
      "outputs": [
        {
          "output_type": "stream",
          "name": "stdout",
          "text": [
            "<class 'pandas.core.frame.DataFrame'>\n",
            "RangeIndex: 308 entries, 0 to 307\n",
            "Data columns (total 7 columns):\n",
            " #   Column  Non-Null Count  Dtype  \n",
            "---  ------  --------------  -----  \n",
            " 0   LC      308 non-null    float64\n",
            " 1   PC      308 non-null    float64\n",
            " 2   L/D     308 non-null    float64\n",
            " 3   B/Dr    308 non-null    float64\n",
            " 4   L/B     308 non-null    float64\n",
            " 5   Fr      308 non-null    float64\n",
            " 6   Rr      308 non-null    float64\n",
            "dtypes: float64(7)\n",
            "memory usage: 17.0 KB\n"
          ]
        }
      ]
    },
    {
      "cell_type": "code",
      "source": [
        "df.isnull().sum()"
      ],
      "metadata": {
        "colab": {
          "base_uri": "https://localhost:8080/"
        },
        "id": "suLURSTlg5f2",
        "outputId": "5a4a96e8-59b1-49e4-a49d-7f62372befea"
      },
      "execution_count": null,
      "outputs": [
        {
          "output_type": "execute_result",
          "data": {
            "text/plain": [
              "LC      0\n",
              "PC      0\n",
              "L/D     0\n",
              "B/Dr    0\n",
              "L/B     0\n",
              "Fr      0\n",
              "Rr      0\n",
              "dtype: int64"
            ]
          },
          "metadata": {},
          "execution_count": 5
        }
      ]
    },
    {
      "cell_type": "code",
      "source": [
        "df.duplicated().sum()"
      ],
      "metadata": {
        "colab": {
          "base_uri": "https://localhost:8080/"
        },
        "id": "taMYEerBg9pP",
        "outputId": "a9b3df5e-66b0-4c45-ef47-3ae354984a4c"
      },
      "execution_count": null,
      "outputs": [
        {
          "output_type": "execute_result",
          "data": {
            "text/plain": [
              "0"
            ]
          },
          "metadata": {},
          "execution_count": 6
        }
      ]
    },
    {
      "cell_type": "code",
      "source": [
        "sns.heatmap(df.corr(),annot=True,cmap=\"Blues\")"
      ],
      "metadata": {
        "colab": {
          "base_uri": "https://localhost:8080/",
          "height": 452
        },
        "id": "qsHM9egZhAbI",
        "outputId": "125743ce-6205-40a9-8f5c-24e5b93fcc51"
      },
      "execution_count": null,
      "outputs": [
        {
          "output_type": "execute_result",
          "data": {
            "text/plain": [
              "<Axes: >"
            ]
          },
          "metadata": {},
          "execution_count": 7
        },
        {
          "output_type": "display_data",
          "data": {
            "text/plain": [
              "<Figure size 640x480 with 2 Axes>"
            ],
            "image/png": "[encoded data removed]"
          },
          "metadata": {}
        }
      ]
    },
    {
      "cell_type": "code",
      "source": [
        "sns.scatterplot(x=\"LC\",y=\"Rr\",data=df)"
      ],
      "metadata": {
        "colab": {
          "base_uri": "https://localhost:8080/",
          "height": 466
        },
        "id": "mtih65-tbSS4",
        "outputId": "afc13816-1381-4912-b8ef-6f8ca7d2a175"
      },
      "execution_count": null,
      "outputs": [
        {
          "output_type": "execute_result",
          "data": {
            "text/plain": [
              "<Axes: xlabel='LC', ylabel='Rr'>"
            ]
          },
          "metadata": {},
          "execution_count": 16
        },
        {
          "output_type": "display_data",
          "data": {
            "text/plain": [
              "<Figure size 640x480 with 1 Axes>"
            ],
            "image/png": "[encoded data removed]"
          },
          "metadata": {}
        }
      ]
    },
    {
      "cell_type": "code",
      "source": [
        "sns.scatterplot(x=\"Fr\",y=\"Rr\",data=df)"
      ],
      "metadata": {
        "id": "sW_CoxYHb9uP",
        "outputId": "aea0e7ca-90a0-4268-aff3-7df353de6aeb",
        "colab": {
          "base_uri": "https://localhost:8080/",
          "height": 466
        }
      },
      "execution_count": null,
      "outputs": [
        {
          "output_type": "execute_result",
          "data": {
            "text/plain": [
              "<Axes: xlabel='Fr', ylabel='Rr'>"
            ]
          },
          "metadata": {},
          "execution_count": 17
        },
        {
          "output_type": "display_data",
          "data": {
            "text/plain": [
              "<Figure size 640x480 with 1 Axes>"
            ],
            "image/png": "[encoded data removed]"
          },
          "metadata": {}
        }
      ]
    },
    {
      "cell_type": "code",
      "source": [
        "df[\"Rr\"].unique()"
      ],
      "metadata": {
        "colab": {
          "base_uri": "https://localhost:8080/"
        },
        "id": "gXzHCb6qlYaS",
        "outputId": "c6432f89-6aea-41aa-8b89-066a2932a81e"
      },
      "execution_count": null,
      "outputs": [
        {
          "output_type": "execute_result",
          "data": {
            "text/plain": [
              "array([1.100e-01, 2.700e-01, 4.700e-01, 7.800e-01, 1.180e+00, 1.820e+00,\n",
              "       2.610e+00, 3.760e+00, 4.990e+00, 7.160e+00, 1.193e+01, 2.011e+01,\n",
              "       3.275e+01, 4.949e+01, 4.000e-02, 1.700e-01, 3.700e-01, 6.600e-01,\n",
              "       1.060e+00, 1.590e+00, 2.330e+00, 3.290e+00, 4.610e+00, 7.110e+00,\n",
              "       1.199e+01, 2.109e+01, 3.501e+01, 5.180e+01, 9.000e-02, 2.900e-01,\n",
              "       5.600e-01, 8.600e-01, 1.310e+00, 1.990e+00, 2.940e+00, 4.210e+00,\n",
              "       5.540e+00, 8.250e+00, 1.308e+01, 2.140e+01, 3.314e+01, 5.014e+01,\n",
              "       2.000e-01, 3.500e-01, 6.500e-01, 9.300e-01, 1.370e+00, 1.970e+00,\n",
              "       2.830e+00, 3.990e+00, 5.190e+00, 8.030e+00, 1.286e+01, 2.151e+01,\n",
              "       3.397e+01, 5.036e+01, 1.200e-01, 2.600e-01, 4.300e-01, 6.900e-01,\n",
              "       1.090e+00, 1.670e+00, 2.460e+00, 3.430e+00, 4.620e+00, 6.860e+00,\n",
              "       1.156e+01, 2.063e+01, 3.450e+01, 5.423e+01, 2.800e-01, 4.400e-01,\n",
              "       7.000e-01, 1.070e+00, 1.570e+00, 2.230e+00, 3.090e+00, 4.090e+00,\n",
              "       5.820e+00, 8.280e+00, 1.280e+01, 2.041e+01, 3.234e+01, 4.729e+01,\n",
              "       3.800e-01, 6.400e-01, 9.700e-01, 1.360e+00, 1.980e+00, 2.910e+00,\n",
              "       4.350e+00, 5.790e+00, 8.040e+00, 1.215e+01, 1.918e+01, 3.009e+01,\n",
              "       4.438e+01, 1.500e-01, 3.200e-01, 5.500e-01, 1.240e+00, 1.760e+00,\n",
              "       2.490e+00, 3.450e+00, 4.830e+00, 7.370e+00, 1.276e+01, 2.199e+01,\n",
              "       3.564e+01, 5.307e+01, 2.400e-01, 4.900e-01, 7.900e-01, 1.280e+00,\n",
              "       1.960e+00, 2.880e+00, 4.140e+00, 5.960e+00, 9.070e+00, 1.493e+01,\n",
              "       2.413e+01, 3.812e+01, 5.544e+01, 7.000e-02, 1.800e-01, 4.000e-01,\n",
              "       1.140e+00, 1.830e+00, 2.770e+00, 4.120e+00, 5.410e+00, 7.870e+00,\n",
              "       1.271e+01, 2.102e+01, 3.458e+01, 5.177e+01, 8.000e-02, 5.000e-01,\n",
              "       8.300e-01, 1.900e+00, 2.680e+00, 5.570e+00, 8.760e+00, 1.424e+01,\n",
              "       2.305e+01, 3.546e+01, 5.199e+01, 4.500e-01, 7.700e-01, 1.190e+00,\n",
              "       2.590e+00, 3.850e+00, 5.270e+00, 7.740e+00, 1.240e+01, 2.091e+01,\n",
              "       3.323e+01, 4.914e+01, 2.500e-01, 4.600e-01, 7.500e-01, 1.110e+00,\n",
              "       2.170e+00, 2.980e+00, 4.420e+00, 7.840e+00, 1.411e+01, 2.414e+01,\n",
              "       3.795e+01, 5.517e+01, 1.000e-01, 2.300e-01, 7.600e-01, 1.150e+00,\n",
              "       1.650e+00, 2.280e+00, 4.410e+00, 7.510e+00, 1.377e+01, 2.396e+01,\n",
              "       3.738e+01, 5.646e+01, 5.000e-02, 6.300e-01, 1.010e+00, 1.430e+00,\n",
              "       2.050e+00, 2.730e+00, 3.870e+00, 7.190e+00, 1.396e+01, 2.518e+01,\n",
              "       4.134e+01, 6.242e+01, 3.000e-02, 7.300e-01, 1.300e+00, 2.160e+00,\n",
              "       3.350e+00, 5.060e+00, 7.140e+00, 1.036e+01, 1.525e+01, 2.315e+01,\n",
              "       3.462e+01, 5.150e+01, 6.000e-02, 3.400e-01, 1.130e+00, 1.850e+00,\n",
              "       2.840e+00, 4.340e+00, 6.200e+00, 8.620e+00, 1.249e+01, 3.246e+01,\n",
              "       5.094e+01, 1.600e-01, 5.900e-01, 9.200e-01, 1.940e+00, 2.620e+00,\n",
              "       3.700e+00, 5.450e+00, 9.450e+00, 1.631e+01, 2.734e+01, 4.177e+01,\n",
              "       6.085e+01, 1.210e+00, 3.690e+00, 5.070e+00, 7.950e+00, 1.373e+01,\n",
              "       2.355e+01, 3.714e+01, 5.587e+01, 1.000e-02, 3.900e-01, 3.040e+00,\n",
              "       4.460e+00, 6.310e+00, 8.680e+00, 1.239e+01, 2.014e+01, 3.177e+01,\n",
              "       4.713e+01, 3.600e-01, 1.020e+00, 1.620e+00, 2.630e+00, 4.150e+00,\n",
              "       6.000e+00, 8.470e+00, 1.227e+01, 1.959e+01, 3.048e+01, 4.666e+01])"
            ]
          },
          "metadata": {},
          "execution_count": 8
        }
      ]
    },
    {
      "cell_type": "code",
      "source": [
        "x=df.drop(\"Rr\",axis=1)\n",
        "y=df[\"Rr\"]"
      ],
      "metadata": {
        "id": "tdsaEKrghH8e"
      },
      "execution_count": null,
      "outputs": []
    },
    {
      "cell_type": "code",
      "source": [
        "from sklearn.model_selection import train_test_split\n",
        "import sklearn.metrics as me"
      ],
      "metadata": {
        "id": "ZICXMX6rhWQj"
      },
      "execution_count": null,
      "outputs": []
    },
    {
      "cell_type": "code",
      "source": [
        "x_train,x_test,y_train,y_test=train_test_split(x,y,test_size=0.2,random_state=42)"
      ],
      "metadata": {
        "id": "Gm4LrrcGhrrz"
      },
      "execution_count": null,
      "outputs": []
    },
    {
      "cell_type": "code",
      "source": [
        "from sklearn.linear_model import LinearRegression\n",
        "model=LinearRegression()\n",
        "model.fit(x_train,y_train)\n",
        "pred=model.predict(x_test)\n",
        "r2_score=me.r2_score(y_test,pred)\n",
        "print(r2_score)"
      ],
      "metadata": {
        "colab": {
          "base_uri": "https://localhost:8080/"
        },
        "id": "LqorDcbVieoB",
        "outputId": "9969bfe1-4a09-4953-ca56-5bd69964cee8"
      },
      "execution_count": null,
      "outputs": [
        {
          "output_type": "stream",
          "name": "stdout",
          "text": [
            "0.5450299966509137\n"
          ]
        }
      ]
    }
  ]
}
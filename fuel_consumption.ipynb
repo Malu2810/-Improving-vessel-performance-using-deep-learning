{
  "nbformat": 4,
  "nbformat_minor": 0,
  "metadata": {
    "colab": {
      "provenance": [],
      "include_colab_link": true
    },
    "kernelspec": {
      "name": "python3",
      "display_name": "Python 3"
    },
    "language_info": {
      "name": "python"
    }
  },
  "cells": [
    {
      "cell_type": "markdown",
      "metadata": {
        "id": "view-in-github",
        "colab_type": "text"
      },
      "source": [
        "<a href=\"https://colab.research.google.com/github/Malu2810/-Improving-vessel-performance-using-deep-learning/blob/main/fuel_consumption.ipynb\" target=\"_parent\"><img src=\"https://colab.research.google.com/assets/colab-badge.svg\" alt=\"Open In Colab\"/></a>"
      ]
    },
    {
      "cell_type": "code",
      "execution_count": null,
      "metadata": {
        "id": "pIkdFrU7xclM"
      },
      "outputs": [],
      "source": [
        "import pandas as pd\n",
        "import numpy as np\n",
        "import matplotlib.pyplot as plt\n",
        "import seaborn as sns"
      ]
    },
    {
      "cell_type": "code",
      "source": [
        "co2=pd.read_excel(\"/content/2022-v109-17112023-EU MRV Publication of information (1) (2).xlsx\")"
      ],
      "metadata": {
        "id": "rE6vqWc_xo5h"
      },
      "execution_count": null,
      "outputs": []
    },
    {
      "cell_type": "code",
      "source": [
        "co2.columns"
      ],
      "metadata": {
        "colab": {
          "base_uri": "https://localhost:8080/"
        },
        "id": "zDwjlS_MyizS",
        "outputId": "452f905e-ca9c-44fd-b867-31b1b4bb3c33"
      },
      "execution_count": null,
      "outputs": [
        {
          "output_type": "execute_result",
          "data": {
            "text/plain": [
              "Index(['IMO Number', 'Name', 'Ship type', 'Reporting Period',\n",
              "       'technical efficiency(gco2/t-nm', 'Unnamed: 5', 'DoC issue date',\n",
              "       'DoC expiry date', 'Verifier Number', 'Verifier Name', 'Verifier NAB',\n",
              "       'Verifier Address', 'Verifier City', 'Verifier Accreditation number',\n",
              "       'Verifier Country', 'A', 'B', 'C', 'D',\n",
              "       'Total fuel consumption [m tonnes]',\n",
              "       'Fuel consumptions assigned to On laden [m tonnes]',\n",
              "       'Total CO₂ emissions [m tonnes]',\n",
              "       'CO₂ emissions from all voyages between ports under a MS jurisdiction [m tonnes]',\n",
              "       'CO₂ emissions from all voyages which departed from ports under a MS jurisdiction [m tonnes]',\n",
              "       'CO₂ emissions from all voyages to ports under a MS jurisdiction [m tonnes]',\n",
              "       'CO₂ emissions which occurred within ports under a MS jurisdiction at berth [m tonnes]',\n",
              "       'CO₂ emissions assigned to Passenger transport [m tonnes]',\n",
              "       'CO₂ emissions assigned to Freight transport [m tonnes]',\n",
              "       'CO₂ emissions assigned to On laden [m tonnes]',\n",
              "       'Annual Time spent at sea [hours]',\n",
              "       'Annual average Fuel consumption per distance [kg / n mile]',\n",
              "       'Annual average Fuel consumption per transport work (mass) [g / m tonnes · n miles]',\n",
              "       'Annual average Fuel consumption per transport work (volume) [g / m³ · n miles]',\n",
              "       'Annual average Fuel consumption per transport work (dwt) [g / dwt carried · n miles]',\n",
              "       'Annual average Fuel consumption per transport work (pax) [g / pax · n miles]',\n",
              "       'Annual average Fuel consumption per transport work (freight) [g / m tonnes · n miles]',\n",
              "       'Annual average CO₂ emissions per distance [kg CO₂ / n mile]',\n",
              "       'Annual average CO₂ emissions per transport work (mass) [g CO₂ / m tonnes · n miles]',\n",
              "       'Annual average CO₂ emissions per transport work (volume) [g CO₂ / m³ · n miles]',\n",
              "       'Annual average CO₂ emissions per transport work (dwt) [g CO₂ / dwt carried · n miles]',\n",
              "       'Annual average CO₂ emissions per transport work (pax) [g CO₂ / pax · n miles]',\n",
              "       'Annual average CO₂ emissions per transport work (freight) [g CO₂ / m tonnes · n miles]',\n",
              "       'Through ice [n miles]', 'Time spent at sea [hours]',\n",
              "       'Total time spent at sea through ice [hours]',\n",
              "       'Fuel consumption per distance on laden voyages [kg / n mile]',\n",
              "       'Fuel consumption per transport work (mass) on laden voyages [g / m tonnes · n miles]',\n",
              "       'Fuel consumption per transport work (volume) on laden voyages [g / m³ · n miles]',\n",
              "       'Fuel consumption per transport work (dwt) on laden voyages [g / dwt carried · n miles]',\n",
              "       'Fuel consumption per transport work (pax) on laden voyages [g / pax · n miles]',\n",
              "       'Fuel consumption per transport work (freight) on laden voyages [g / m tonnes · n miles]',\n",
              "       'CO₂ emissions per distance on laden voyages [kg CO₂ / n mile]',\n",
              "       'CO₂ emissions per transport work (mass) on laden voyages [g CO₂ / m tonnes · n miles]',\n",
              "       'CO₂ emissions per transport work (volume) on laden voyages [g CO₂ / m³ · n miles]',\n",
              "       'CO₂ emissions per transport work (dwt) on laden voyages [g CO₂ / dwt carried · n miles]',\n",
              "       'CO₂ emissions per transport work (pax) on laden voyages [g CO₂ / pax · n miles]',\n",
              "       'CO₂ emissions per transport work (freight) on laden voyages [g CO₂ / m tonnes · n miles]',\n",
              "       'Unnamed: 57', 'Unnamed: 58',\n",
              "       'Additional information to facilitate the understanding of the reported average operational energy efficiency indicators',\n",
              "       'Average density of the cargo transported [m tonnes / m³]'],\n",
              "      dtype='object')"
            ]
          },
          "metadata": {},
          "execution_count": 84
        }
      ]
    },
    {
      "cell_type": "code",
      "source": [
        "co2.isnull().sum()"
      ],
      "metadata": {
        "colab": {
          "base_uri": "https://localhost:8080/"
        },
        "id": "lPdXqC3yy1iP",
        "outputId": "7159b53a-2ace-44ab-b8d8-50bda48eed2f"
      },
      "execution_count": null,
      "outputs": [
        {
          "output_type": "execute_result",
          "data": {
            "text/plain": [
              "IMO Number                                                                                                                     0\n",
              "Name                                                                                                                           0\n",
              "Ship type                                                                                                                      0\n",
              "Reporting Period                                                                                                               0\n",
              "technical efficiency(gco2/t-nm                                                                                               232\n",
              "                                                                                                                           ...  \n",
              "CO₂ emissions per transport work (freight) on laden voyages [g CO₂ / m tonnes · n miles]                                   13089\n",
              "Unnamed: 57                                                                                                                13089\n",
              "Unnamed: 58                                                                                                                13089\n",
              "Additional information to facilitate the understanding of the reported average operational energy efficiency indicators    13086\n",
              "Average density of the cargo transported [m tonnes / m³]                                                                   13089\n",
              "Length: 61, dtype: int64"
            ]
          },
          "metadata": {},
          "execution_count": 85
        }
      ]
    },
    {
      "cell_type": "code",
      "source": [
        "co2 = co2.dropna(axis=1)"
      ],
      "metadata": {
        "id": "2rRWm1PL75SH"
      },
      "execution_count": null,
      "outputs": []
    },
    {
      "cell_type": "code",
      "source": [
        "co2.isnull().sum()"
      ],
      "metadata": {
        "colab": {
          "base_uri": "https://localhost:8080/"
        },
        "id": "1xlC9ED69f4t",
        "outputId": "fe59b79a-4f54-46d4-b295-2e602e315507"
      },
      "execution_count": null,
      "outputs": [
        {
          "output_type": "execute_result",
          "data": {
            "text/plain": [
              "IMO Number                                                                                     0\n",
              "Name                                                                                           0\n",
              "Ship type                                                                                      0\n",
              "Reporting Period                                                                               0\n",
              "DoC issue date                                                                                 0\n",
              "DoC expiry date                                                                                0\n",
              "Verifier Name                                                                                  0\n",
              "Verifier NAB                                                                                   0\n",
              "Verifier Address                                                                               0\n",
              "Verifier City                                                                                  0\n",
              "Verifier Accreditation number                                                                  0\n",
              "Verifier Country                                                                               0\n",
              "Total fuel consumption [m tonnes]                                                              0\n",
              "Total CO₂ emissions [m tonnes]                                                                 0\n",
              "CO₂ emissions from all voyages between ports under a MS jurisdiction [m tonnes]                0\n",
              "CO₂ emissions from all voyages which departed from ports under a MS jurisdiction [m tonnes]    0\n",
              "CO₂ emissions from all voyages to ports under a MS jurisdiction [m tonnes]                     0\n",
              "CO₂ emissions which occurred within ports under a MS jurisdiction at berth [m tonnes]          0\n",
              "Annual Time spent at sea [hours]                                                               0\n",
              "Annual average Fuel consumption per distance [kg / n mile]                                     0\n",
              "Annual average CO₂ emissions per distance [kg CO₂ / n mile]                                    0\n",
              "Time spent at sea [hours]                                                                      0\n",
              "dtype: int64"
            ]
          },
          "metadata": {},
          "execution_count": 87
        }
      ]
    },
    {
      "cell_type": "code",
      "source": [
        "co2.dtypes"
      ],
      "metadata": {
        "colab": {
          "base_uri": "https://localhost:8080/"
        },
        "id": "GTyZwCv5-Z_u",
        "outputId": "f85e7234-f6a7-4ccd-a139-40aac6f4cafa"
      },
      "execution_count": null,
      "outputs": [
        {
          "output_type": "execute_result",
          "data": {
            "text/plain": [
              "IMO Number                                                                                       int64\n",
              "Name                                                                                            object\n",
              "Ship type                                                                                       object\n",
              "Reporting Period                                                                                 int64\n",
              "DoC issue date                                                                                  object\n",
              "DoC expiry date                                                                                 object\n",
              "Verifier Name                                                                                   object\n",
              "Verifier NAB                                                                                    object\n",
              "Verifier Address                                                                                object\n",
              "Verifier City                                                                                   object\n",
              "Verifier Accreditation number                                                                   object\n",
              "Verifier Country                                                                                object\n",
              "Total fuel consumption [m tonnes]                                                              float64\n",
              "Total CO₂ emissions [m tonnes]                                                                 float64\n",
              "CO₂ emissions from all voyages between ports under a MS jurisdiction [m tonnes]                float64\n",
              "CO₂ emissions from all voyages which departed from ports under a MS jurisdiction [m tonnes]    float64\n",
              "CO₂ emissions from all voyages to ports under a MS jurisdiction [m tonnes]                     float64\n",
              "CO₂ emissions which occurred within ports under a MS jurisdiction at berth [m tonnes]          float64\n",
              "Annual Time spent at sea [hours]                                                               float64\n",
              "Annual average Fuel consumption per distance [kg / n mile]                                      object\n",
              "Annual average CO₂ emissions per distance [kg CO₂ / n mile]                                     object\n",
              "Time spent at sea [hours]                                                                      float64\n",
              "dtype: object"
            ]
          },
          "metadata": {},
          "execution_count": 88
        }
      ]
    },
    {
      "cell_type": "code",
      "source": [
        "co2['Ship type'].value_counts()"
      ],
      "metadata": {
        "colab": {
          "base_uri": "https://localhost:8080/"
        },
        "id": "PHyB-jIg-7qo",
        "outputId": "9c8045a1-b734-496a-c8b1-bcab3bd19c39"
      },
      "execution_count": null,
      "outputs": [
        {
          "output_type": "execute_result",
          "data": {
            "text/plain": [
              "Bulk carrier                  4099\n",
              "Oil tanker                    1996\n",
              "Container ship                1857\n",
              "Chemical tanker               1432\n",
              "General cargo ship            1208\n",
              "Vehicle carrier                469\n",
              "Ro-pax ship                    409\n",
              "LNG carrier                    389\n",
              "Gas carrier                    355\n",
              "Other ship types               247\n",
              "Ro-ro ship                     228\n",
              "Passenger ship                 186\n",
              "Refrigerated cargo carrier     145\n",
              "Container/ro-ro cargo ship      60\n",
              "Combination carrier              9\n",
              "Name: Ship type, dtype: int64"
            ]
          },
          "metadata": {},
          "execution_count": 89
        }
      ]
    },
    {
      "cell_type": "code",
      "source": [
        "co2['Verifier Country'].value_counts"
      ],
      "metadata": {
        "colab": {
          "base_uri": "https://localhost:8080/"
        },
        "id": "IoP1gkRv_CH8",
        "outputId": "7b4a101f-70dd-4646-8f19-93eff2a9c390"
      },
      "execution_count": null,
      "outputs": [
        {
          "output_type": "execute_result",
          "data": {
            "text/plain": [
              "<bound method IndexOpsMixin.value_counts of 0        France\n",
              "1        Greece\n",
              "2        France\n",
              "3        Greece\n",
              "4        Greece\n",
              "          ...  \n",
              "13084     Japan\n",
              "13085    Greece\n",
              "13086    Greece\n",
              "13087     Japan\n",
              "13088    Greece\n",
              "Name: Verifier Country, Length: 13089, dtype: object>"
            ]
          },
          "metadata": {},
          "execution_count": 90
        }
      ]
    },
    {
      "cell_type": "code",
      "source": [
        "co2['Verifier Address'].value_counts"
      ],
      "metadata": {
        "colab": {
          "base_uri": "https://localhost:8080/"
        },
        "id": "quQFsMQD_Kc5",
        "outputId": "904e7f23-6f60-4d9d-e628-ffb887af7df7"
      },
      "execution_count": null,
      "outputs": [
        {
          "output_type": "execute_result",
          "data": {
            "text/plain": [
              "<bound method IndexOpsMixin.value_counts of 0                                 1 Place Zaha Hadid\n",
              "1                 2-4 Iakovou Dragatsi street, 18535\n",
              "2                                 33 Avenue du Maine\n",
              "3        Kodrou & Filellinon str., 15232, Chalandri,\n",
              "4        Kodrou & Filellinon str., 15232, Chalandri,\n",
              "                            ...                     \n",
              "13084                      4-7, Kioi-Cho, Chiyoda-Ku\n",
              "13085                            348 Syggrou Avenue,\n",
              "13086       16, Efplias Str.\\n185 37 Piraeus, Greece\n",
              "13087                      4-7, Kioi-Cho, Chiyoda-Ku\n",
              "13088       5, Aitolikou Street and Kastoros - 18545\n",
              "Name: Verifier Address, Length: 13089, dtype: object>"
            ]
          },
          "metadata": {},
          "execution_count": 91
        }
      ]
    },
    {
      "cell_type": "code",
      "source": [
        "co2['Annual average CO₂ emissions per distance [kg CO₂ / n mile]'].value_counts()"
      ],
      "metadata": {
        "colab": {
          "base_uri": "https://localhost:8080/"
        },
        "id": "23bpKYhB_SEe",
        "outputId": "ef7088eb-1f82-4438-9b1e-6a99a238c3ad"
      },
      "execution_count": null,
      "outputs": [
        {
          "output_type": "execute_result",
          "data": {
            "text/plain": [
              "Division by zero!    211\n",
              "339.37                 5\n",
              "354.64                 4\n",
              "266.21                 4\n",
              "340.34                 4\n",
              "                    ... \n",
              "178.1                  1\n",
              "250.99                 1\n",
              "229.76                 1\n",
              "300.53                 1\n",
              "208.71                 1\n",
              "Name: Annual average CO₂ emissions per distance [kg CO₂ / n mile], Length: 11276, dtype: int64"
            ]
          },
          "metadata": {},
          "execution_count": 92
        }
      ]
    },
    {
      "cell_type": "code",
      "source": [
        "co2['Annual average CO₂ emissions per distance [kg CO₂ / n mile]'] = pd.to_numeric(co2['Annual average CO₂ emissions per distance [kg CO₂ / n mile]'], errors='coerce')\n",
        "\n",
        "co2['Annual average CO₂ emissions per distance [kg CO₂ / n mile]'] = co2['Annual average CO₂ emissions per distance [kg CO₂ / n mile]'].fillna(0).astype(int)\n",
        "\n"
      ],
      "metadata": {
        "id": "f9jZhoPa_7a_"
      },
      "execution_count": null,
      "outputs": []
    },
    {
      "cell_type": "code",
      "source": [
        "co2.dtypes"
      ],
      "metadata": {
        "colab": {
          "base_uri": "https://localhost:8080/"
        },
        "id": "qH1kF0JyBJh_",
        "outputId": "ace774c8-b561-4e8d-f7b4-c4d30af89f2a"
      },
      "execution_count": null,
      "outputs": [
        {
          "output_type": "execute_result",
          "data": {
            "text/plain": [
              "IMO Number                                                                                       int64\n",
              "Name                                                                                            object\n",
              "Ship type                                                                                       object\n",
              "Reporting Period                                                                                 int64\n",
              "DoC issue date                                                                                  object\n",
              "DoC expiry date                                                                                 object\n",
              "Verifier Name                                                                                   object\n",
              "Verifier NAB                                                                                    object\n",
              "Verifier Address                                                                                object\n",
              "Verifier City                                                                                   object\n",
              "Verifier Accreditation number                                                                   object\n",
              "Verifier Country                                                                                object\n",
              "Total fuel consumption [m tonnes]                                                              float64\n",
              "Total CO₂ emissions [m tonnes]                                                                 float64\n",
              "CO₂ emissions from all voyages between ports under a MS jurisdiction [m tonnes]                float64\n",
              "CO₂ emissions from all voyages which departed from ports under a MS jurisdiction [m tonnes]    float64\n",
              "CO₂ emissions from all voyages to ports under a MS jurisdiction [m tonnes]                     float64\n",
              "CO₂ emissions which occurred within ports under a MS jurisdiction at berth [m tonnes]          float64\n",
              "Annual Time spent at sea [hours]                                                               float64\n",
              "Annual average Fuel consumption per distance [kg / n mile]                                      object\n",
              "Annual average CO₂ emissions per distance [kg CO₂ / n mile]                                      int64\n",
              "Time spent at sea [hours]                                                                      float64\n",
              "dtype: object"
            ]
          },
          "metadata": {},
          "execution_count": 94
        }
      ]
    },
    {
      "cell_type": "code",
      "source": [
        "co2['Annual average Fuel consumption per distance [kg / n mile]'] = pd.to_numeric(co2['Annual average Fuel consumption per distance [kg / n mile]'], errors='coerce')\n",
        "\n",
        "co2['Annual average Fuel consumption per distance [kg / n mile]'] = co2['Annual average Fuel consumption per distance [kg / n mile]'].fillna(0).astype(int)\n"
      ],
      "metadata": {
        "id": "laCCVdlbBpxp"
      },
      "execution_count": null,
      "outputs": []
    },
    {
      "cell_type": "code",
      "source": [
        "co2.dtypes"
      ],
      "metadata": {
        "colab": {
          "base_uri": "https://localhost:8080/"
        },
        "id": "d5zbttvMCOIC",
        "outputId": "3ae40460-1148-40ee-b905-1cd274d85b36"
      },
      "execution_count": null,
      "outputs": [
        {
          "output_type": "execute_result",
          "data": {
            "text/plain": [
              "IMO Number                                                                                       int64\n",
              "Name                                                                                            object\n",
              "Ship type                                                                                       object\n",
              "Reporting Period                                                                                 int64\n",
              "DoC issue date                                                                                  object\n",
              "DoC expiry date                                                                                 object\n",
              "Verifier Name                                                                                   object\n",
              "Verifier NAB                                                                                    object\n",
              "Verifier Address                                                                                object\n",
              "Verifier City                                                                                   object\n",
              "Verifier Accreditation number                                                                   object\n",
              "Verifier Country                                                                                object\n",
              "Total fuel consumption [m tonnes]                                                              float64\n",
              "Total CO₂ emissions [m tonnes]                                                                 float64\n",
              "CO₂ emissions from all voyages between ports under a MS jurisdiction [m tonnes]                float64\n",
              "CO₂ emissions from all voyages which departed from ports under a MS jurisdiction [m tonnes]    float64\n",
              "CO₂ emissions from all voyages to ports under a MS jurisdiction [m tonnes]                     float64\n",
              "CO₂ emissions which occurred within ports under a MS jurisdiction at berth [m tonnes]          float64\n",
              "Annual Time spent at sea [hours]                                                               float64\n",
              "Annual average Fuel consumption per distance [kg / n mile]                                       int64\n",
              "Annual average CO₂ emissions per distance [kg CO₂ / n mile]                                      int64\n",
              "Time spent at sea [hours]                                                                      float64\n",
              "dtype: object"
            ]
          },
          "metadata": {},
          "execution_count": 96
        }
      ]
    },
    {
      "cell_type": "code",
      "source": [
        "co2['Ship type'] = co2['Ship type'].map( {'Bulk carrier':1,\n",
        "'Oil tanker':2,\n",
        "'Container ship':3,\n",
        "'Chemical tanker':4,\n",
        "'General cargo ship':5,\n",
        "'Vehicle carrier':6,\n",
        "'Ro-pax ship':7,\n",
        "'LNG carrier' :8,\n",
        "'Gas carrier':9,\n",
        "'Other ship types':10,\n",
        "'Ro-ro ship':11,\n",
        "'Passenger ship':12,\n",
        "'Refrigerated cargo carrier':13,\n",
        "'Container/ro-ro cargo ship':14,\n",
        "'Combination carrier':15 } )\n"
      ],
      "metadata": {
        "id": "9j5P8kNTCSdu"
      },
      "execution_count": null,
      "outputs": []
    },
    {
      "cell_type": "code",
      "source": [
        "co2.dtypes"
      ],
      "metadata": {
        "colab": {
          "base_uri": "https://localhost:8080/"
        },
        "id": "yzDgSsJMDvDO",
        "outputId": "805b0f83-d051-4531-d9d1-5fb498aed6d6"
      },
      "execution_count": null,
      "outputs": [
        {
          "output_type": "execute_result",
          "data": {
            "text/plain": [
              "IMO Number                                                                                       int64\n",
              "Name                                                                                            object\n",
              "Ship type                                                                                        int64\n",
              "Reporting Period                                                                                 int64\n",
              "DoC issue date                                                                                  object\n",
              "DoC expiry date                                                                                 object\n",
              "Verifier Name                                                                                   object\n",
              "Verifier NAB                                                                                    object\n",
              "Verifier Address                                                                                object\n",
              "Verifier City                                                                                   object\n",
              "Verifier Accreditation number                                                                   object\n",
              "Verifier Country                                                                                object\n",
              "Total fuel consumption [m tonnes]                                                              float64\n",
              "Total CO₂ emissions [m tonnes]                                                                 float64\n",
              "CO₂ emissions from all voyages between ports under a MS jurisdiction [m tonnes]                float64\n",
              "CO₂ emissions from all voyages which departed from ports under a MS jurisdiction [m tonnes]    float64\n",
              "CO₂ emissions from all voyages to ports under a MS jurisdiction [m tonnes]                     float64\n",
              "CO₂ emissions which occurred within ports under a MS jurisdiction at berth [m tonnes]          float64\n",
              "Annual Time spent at sea [hours]                                                               float64\n",
              "Annual average Fuel consumption per distance [kg / n mile]                                       int64\n",
              "Annual average CO₂ emissions per distance [kg CO₂ / n mile]                                      int64\n",
              "Time spent at sea [hours]                                                                      float64\n",
              "dtype: object"
            ]
          },
          "metadata": {},
          "execution_count": 98
        }
      ]
    },
    {
      "cell_type": "code",
      "source": [],
      "metadata": {
        "id": "64RB0ceGGnm0"
      },
      "execution_count": null,
      "outputs": []
    },
    {
      "cell_type": "code",
      "source": [
        "co2['Name'].value_counts()"
      ],
      "metadata": {
        "colab": {
          "base_uri": "https://localhost:8080/"
        },
        "id": "KUZYPBU2E3ax",
        "outputId": "888228d0-35ac-41ae-bf97-2bc5be8be50e"
      },
      "execution_count": null,
      "outputs": [
        {
          "output_type": "execute_result",
          "data": {
            "text/plain": [
              "AURORA            4\n",
              "TAURUS            3\n",
              "CALYPSO           3\n",
              "ALEXANDRA         3\n",
              "GLADIATOR         3\n",
              "                 ..\n",
              "GASLOG CHELSEA    1\n",
              "MARTIN I SOLER    1\n",
              "JSP BORA          1\n",
              "KEROS VOYAGER     1\n",
              "BOW PANTHER       1\n",
              "Name: Name, Length: 12894, dtype: int64"
            ]
          },
          "metadata": {},
          "execution_count": 99
        }
      ]
    },
    {
      "cell_type": "code",
      "source": [
        "co2.columns"
      ],
      "metadata": {
        "colab": {
          "base_uri": "https://localhost:8080/"
        },
        "id": "lrRbkI_AGyyr",
        "outputId": "01f86e73-b3db-4f0c-df7f-63e287f56f52"
      },
      "execution_count": null,
      "outputs": [
        {
          "output_type": "execute_result",
          "data": {
            "text/plain": [
              "Index(['IMO Number', 'Name', 'Ship type', 'Reporting Period', 'DoC issue date',\n",
              "       'DoC expiry date', 'Verifier Name', 'Verifier NAB', 'Verifier Address',\n",
              "       'Verifier City', 'Verifier Accreditation number', 'Verifier Country',\n",
              "       'Total fuel consumption [m tonnes]', 'Total CO₂ emissions [m tonnes]',\n",
              "       'CO₂ emissions from all voyages between ports under a MS jurisdiction [m tonnes]',\n",
              "       'CO₂ emissions from all voyages which departed from ports under a MS jurisdiction [m tonnes]',\n",
              "       'CO₂ emissions from all voyages to ports under a MS jurisdiction [m tonnes]',\n",
              "       'CO₂ emissions which occurred within ports under a MS jurisdiction at berth [m tonnes]',\n",
              "       'Annual Time spent at sea [hours]',\n",
              "       'Annual average Fuel consumption per distance [kg / n mile]',\n",
              "       'Annual average CO₂ emissions per distance [kg CO₂ / n mile]',\n",
              "       'Time spent at sea [hours]'],\n",
              "      dtype='object')"
            ]
          },
          "metadata": {},
          "execution_count": 100
        }
      ]
    },
    {
      "cell_type": "code",
      "source": [
        "co2=co2.drop(columns=['Name','DoC issue date','Verifier Country','Verifier City','Verifier Address','Verifier NAB','Verifier Name','DoC expiry date','Verifier Accreditation number','Verifier Country','CO₂ emissions from all voyages between ports under a MS jurisdiction [m tonnes]','CO₂ emissions from all voyages which departed from ports under a MS jurisdiction [m tonnes]','CO₂ emissions from all voyages to ports under a MS jurisdiction [m tonnes]','CO₂ emissions which occurred within ports under a MS jurisdiction at berth [m tonnes]','Annual average CO₂ emissions per distance [kg CO₂ / n mile]','Total CO₂ emissions [m tonnes]']\n",
        ", axis=1)"
      ],
      "metadata": {
        "id": "ZOZOfwlHE6Zk"
      },
      "execution_count": null,
      "outputs": []
    },
    {
      "cell_type": "code",
      "source": [
        "co2.columns"
      ],
      "metadata": {
        "colab": {
          "base_uri": "https://localhost:8080/"
        },
        "id": "lb0nIhZ4GPtT",
        "outputId": "084991c7-a33a-49e0-9ebc-6e935741ea3b"
      },
      "execution_count": null,
      "outputs": [
        {
          "output_type": "execute_result",
          "data": {
            "text/plain": [
              "Index(['IMO Number', 'Ship type', 'Reporting Period',\n",
              "       'Total fuel consumption [m tonnes]', 'Annual Time spent at sea [hours]',\n",
              "       'Annual average Fuel consumption per distance [kg / n mile]',\n",
              "       'Time spent at sea [hours]'],\n",
              "      dtype='object')"
            ]
          },
          "metadata": {},
          "execution_count": 103
        }
      ]
    },
    {
      "cell_type": "code",
      "source": [
        "co2.dtypes\n",
        "\n",
        "\n",
        "\n",
        "\n",
        "\n"
      ],
      "metadata": {
        "colab": {
          "base_uri": "https://localhost:8080/"
        },
        "id": "MHbXilTEGxXd",
        "outputId": "57276bcd-0bdb-4d5f-fd89-430968ce406e"
      },
      "execution_count": null,
      "outputs": [
        {
          "output_type": "execute_result",
          "data": {
            "text/plain": [
              "IMO Number                                                      int64\n",
              "Ship type                                                       int64\n",
              "Reporting Period                                                int64\n",
              "Total fuel consumption [m tonnes]                             float64\n",
              "Annual Time spent at sea [hours]                              float64\n",
              "Annual average Fuel consumption per distance [kg / n mile]      int64\n",
              "Time spent at sea [hours]                                     float64\n",
              "dtype: object"
            ]
          },
          "metadata": {},
          "execution_count": 104
        }
      ]
    },
    {
      "cell_type": "code",
      "source": [
        "co2.to_csv('your_processed_data.csv', index=False)"
      ],
      "metadata": {
        "id": "2GM3ht0DuL7c"
      },
      "execution_count": null,
      "outputs": []
    },
    {
      "cell_type": "code",
      "source": [
        "import pandas as pd\n",
        "import numpy as np\n",
        "import tensorflow as tf\n",
        "from tensorflow.keras.models import Sequential\n",
        "from tensorflow.keras.layers import Conv2D, MaxPooling2D, Flatten, Dense\n",
        "from sklearn.model_selection import train_test_split\n",
        "from sklearn.preprocessing import StandardScaler\n",
        "\n",
        "# Assuming you have a DataFrame named 'df' after performing EDA\n",
        "# Replace 'your_processed_data.csv' with the desired filename\n",
        "data = pd.read_csv('/content/your_processed_data.csv')\n",
        "\n",
        "# Extract features and labels\n",
        "X = data.drop(\"Annual average Fuel consumption per distance [kg / n mile]\", axis=1).values\n",
        "y = data[\"Annual average Fuel consumption per distance [kg / n mile]\"].values\n",
        "\n",
        "# Standardize features\n",
        "scaler = StandardScaler()\n",
        "X = scaler.fit_transform(X)\n",
        "\n",
        "# Reshape features for a 1D input (since it's tabular data)\n",
        "X = X.reshape(-1, X.shape[1])\n",
        "\n",
        "# Split the data into training and testing sets\n",
        "X_train, X_test, y_train, y_test = train_test_split(X, y, test_size=0.2, random_state=42)\n",
        "\n",
        "# Build a simple MLP model\n",
        "model = Sequential()\n",
        "model.add(Dense(64, activation='relu', input_shape=(X.shape[1],)))\n",
        "model.add(Dense(32, activation='relu'))\n",
        "model.add(Dense(1, activation='linear'))  # Regression layer, predicting CO2 emissions\n",
        "\n",
        "\n",
        "\n",
        "\n",
        "\n",
        "# Compile the model\n",
        "model.compile(optimizer='adam', loss='mean_squared_error', metrics=['mae'])\n",
        "\n",
        "# Train the model\n",
        "model.fit(X_train, y_train, epochs=10, batch_size=32, validation_data=(X_test, y_test))\n",
        "\n",
        "# Evaluate the model\n",
        "loss, mae = model.evaluate(X_test, y_test)\n",
        "print(f'Mean Absolute Error: {mae}')\n",
        "\n",
        "# Make predictions\n",
        "predictions = model.predict(X_test)\n"
      ],
      "metadata": {
        "colab": {
          "base_uri": "https://localhost:8080/"
        },
        "id": "Qm6lhJKFuW-h",
        "outputId": "35c7475a-3855-411e-ca06-8dfadedd1e1b"
      },
      "execution_count": null,
      "outputs": [
        {
          "output_type": "stream",
          "name": "stdout",
          "text": [
            "Epoch 1/10\n",
            "328/328 [==============================] - 2s 3ms/step - loss: 28479.2910 - mae: 84.1786 - val_loss: 28880.9082 - val_mae: 46.9286\n",
            "Epoch 2/10\n",
            "328/328 [==============================] - 1s 2ms/step - loss: 19418.7539 - mae: 39.3050 - val_loss: 27610.5117 - val_mae: 37.9930\n",
            "Epoch 3/10\n",
            "328/328 [==============================] - 1s 2ms/step - loss: 18837.4688 - mae: 34.7520 - val_loss: 27325.8887 - val_mae: 35.7084\n",
            "Epoch 4/10\n",
            "328/328 [==============================] - 1s 3ms/step - loss: 18649.5566 - mae: 33.4318 - val_loss: 27196.9688 - val_mae: 34.2107\n",
            "Epoch 5/10\n",
            "328/328 [==============================] - 1s 2ms/step - loss: 18552.4707 - mae: 32.4386 - val_loss: 27117.0352 - val_mae: 33.4976\n",
            "Epoch 6/10\n",
            "328/328 [==============================] - 1s 2ms/step - loss: 18446.8809 - mae: 31.5583 - val_loss: 26977.5156 - val_mae: 32.6453\n",
            "Epoch 7/10\n",
            "328/328 [==============================] - 1s 2ms/step - loss: 18340.4102 - mae: 30.7182 - val_loss: 26864.7949 - val_mae: 32.4622\n",
            "Epoch 8/10\n",
            "328/328 [==============================] - 1s 2ms/step - loss: 18231.0527 - mae: 29.8171 - val_loss: 26710.0527 - val_mae: 30.9154\n",
            "Epoch 9/10\n",
            "328/328 [==============================] - 1s 2ms/step - loss: 18101.7539 - mae: 28.8778 - val_loss: 26610.1582 - val_mae: 28.7494\n",
            "Epoch 10/10\n",
            "328/328 [==============================] - 1s 2ms/step - loss: 17991.4316 - mae: 27.6354 - val_loss: 26450.2031 - val_mae: 27.8489\n",
            "82/82 [==============================] - 0s 1ms/step - loss: 26450.2031 - mae: 27.8489\n",
            "Mean Absolute Error: 27.848861694335938\n",
            "82/82 [==============================] - 0s 1ms/step\n"
          ]
        }
      ]
    },
    {
      "cell_type": "code",
      "source": [],
      "metadata": {
        "id": "ndgJk85kIwba"
      },
      "execution_count": null,
      "outputs": []
    }
  ]
}